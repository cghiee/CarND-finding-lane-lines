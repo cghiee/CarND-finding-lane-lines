{
 "cells": [
  {
   "cell_type": "code",
   "execution_count": 1,
   "metadata": {},
   "outputs": [],
   "source": [
    "class LPF: # create low pass filter class with static variables for old value\n",
    "    old=0\n",
    "    @staticmethod\n",
    "    def smooth(x):\n",
    "        smoothedx=0.2*x+0.8*LPF.old\n",
    "        LPF.old=smoothedx\n",
    "        return smoothedx\n",
    "\n",
    "class LPF_m: # create low pass filter class with static variables for old value\n",
    "    old=0\n",
    "    @staticmethod\n",
    "    def smooth(x):\n",
    "        smoothedx=0.2*x+0.8*LPF_m.old\n",
    "        LPF_m.old=smoothedx\n",
    "        return smoothedx\n",
    "    \n",
    "class LPF_b: # create low pass filter class with static variables for old value\n",
    "    old=0\n",
    "    @staticmethod\n",
    "    def smooth(x):\n",
    "        smoothedx=0.2*x+0.8*LPF_b.old\n",
    "        LPF_b.old=smoothedx\n",
    "        return smoothedx"
   ]
  },
  {
   "cell_type": "code",
   "execution_count": 2,
   "metadata": {},
   "outputs": [
    {
     "name": "stdout",
     "output_type": "stream",
     "text": [
      "[0, 1, 2, 3, 4]\n",
      "0.0\n",
      "0.2\n",
      "0.56\n",
      "1.048\n",
      "1.6384\n"
     ]
    }
   ],
   "source": [
    "m=list(range(5))\n",
    "b=list(range(5))\n",
    "print(b)\n",
    "for mm in m:\n",
    "    print(LPF.smooth(mm))"
   ]
  },
  {
   "cell_type": "code",
   "execution_count": 3,
   "metadata": {},
   "outputs": [
    {
     "name": "stdout",
     "output_type": "stream",
     "text": [
      "[1, 1, 1, 1, 1]\n",
      "1\n",
      "0.20000000000000004\n",
      "1\n",
      "0.36000000000000004\n",
      "1\n",
      "0.4880000000000001\n",
      "1\n",
      "0.5904\n",
      "1\n",
      "0.67232\n"
     ]
    }
   ],
   "source": [
    "for i in range(5):\n",
    "    m[i]=1\n",
    "    b[i]=1\n",
    "#b=list(range(5))\n",
    "print(m)\n",
    "for mm in m:\n",
    "    print(mm)\n",
    "    print(LPF_m.smooth(LPF_m.smooth(mm)))"
   ]
  },
  {
   "cell_type": "code",
   "execution_count": 5,
   "metadata": {},
   "outputs": [
    {
     "name": "stdout",
     "output_type": "stream",
     "text": [
      "G\n",
      "H\n",
      "I\n"
     ]
    }
   ],
   "source": [
    "from collections import deque\n",
    "d = deque('ghi')                 # make a new deque with three items\n",
    "for elem in d:                   # iterate over the deque's elements\n",
    "    print(elem.upper())"
   ]
  },
  {
   "cell_type": "code",
   "execution_count": 39,
   "metadata": {},
   "outputs": [],
   "source": [
    "from collections import deque\n",
    "n = deque(maxlen=30)                 # make a new deque with three items\n",
    "for i in range(5):                   # iterate over the deque's elements\n",
    "    n.append(i)"
   ]
  },
  {
   "cell_type": "code",
   "execution_count": 28,
   "metadata": {},
   "outputs": [
    {
     "data": {
      "text/plain": [
       "deque([0, 1, 2, 3, 4])"
      ]
     },
     "execution_count": 28,
     "metadata": {},
     "output_type": "execute_result"
    }
   ],
   "source": [
    "n"
   ]
  },
  {
   "cell_type": "code",
   "execution_count": 34,
   "metadata": {},
   "outputs": [],
   "source": [
    "from collections import deque\n",
    "n = deque(maxlen=30) "
   ]
  },
  {
   "cell_type": "code",
   "execution_count": 36,
   "metadata": {},
   "outputs": [],
   "source": [
    "n.append(1)"
   ]
  },
  {
   "cell_type": "code",
   "execution_count": 43,
   "metadata": {},
   "outputs": [
    {
     "name": "stdout",
     "output_type": "stream",
     "text": [
      "0\n",
      "1\n",
      "2\n",
      "3\n",
      "4\n"
     ]
    }
   ],
   "source": [
    "for i in range(len(n)):\n",
    "    print(i)"
   ]
  },
  {
   "cell_type": "code",
   "execution_count": 41,
   "metadata": {},
   "outputs": [
    {
     "data": {
      "text/plain": [
       "5"
      ]
     },
     "execution_count": 41,
     "metadata": {},
     "output_type": "execute_result"
    }
   ],
   "source": [
    "len(n)"
   ]
  },
  {
   "cell_type": "code",
   "execution_count": null,
   "metadata": {},
   "outputs": [],
   "source": []
  }
 ],
 "metadata": {
  "kernelspec": {
   "display_name": "Python 3",
   "language": "python",
   "name": "python3"
  },
  "language_info": {
   "codemirror_mode": {
    "name": "ipython",
    "version": 3
   },
   "file_extension": ".py",
   "mimetype": "text/x-python",
   "name": "python",
   "nbconvert_exporter": "python",
   "pygments_lexer": "ipython3",
   "version": "3.5.2"
  },
  "toc": {
   "base_numbering": 1,
   "nav_menu": {},
   "number_sections": false,
   "sideBar": true,
   "skip_h1_title": false,
   "title_cell": "Table of Contents",
   "title_sidebar": "Contents",
   "toc_cell": false,
   "toc_position": {},
   "toc_section_display": true,
   "toc_window_display": false
  },
  "widgets": {
   "state": {},
   "version": "1.1.2"
  }
 },
 "nbformat": 4,
 "nbformat_minor": 2
}
